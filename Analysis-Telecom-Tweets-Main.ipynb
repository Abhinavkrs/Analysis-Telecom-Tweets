{
 "cells": [
  {
   "cell_type": "code",
   "execution_count": 1,
   "metadata": {
    "collapsed": true
   },
   "outputs": [],
   "source": [
    "import tweepy\n",
    "import textblob\n",
    "import matplotlib\n",
    "import matplotlib.pyplot as plt\n",
    "import numpy\n",
    "import numpy as np\n",
    "from textblob import TextBlob"
   ]
  },
  {
   "cell_type": "code",
   "execution_count": 1,
   "metadata": {
    "collapsed": false
   },
   "outputs": [
    {
     "name": "stdout",
     "output_type": "stream",
     "text": [
      "Enter your consumer key :Enter yours\n",
      "Enter your consumer secret :Enter Yours\n",
      "Enter your access token :Enter yours\n",
      "Enter your access token secret :Enter yours\n"
     ]
    }
   ],
   "source": [
    "consumer_key = raw_input('Enter your consumer key :')\n",
    "consumer_secret = raw_input('Enter your consumer secret :')\n",
    "\n",
    "access_token = raw_input('Enter your access token :')\n",
    "access_token_secret = raw_input('Enter your access token secret :')"
   ]
  },
  {
   "cell_type": "code",
   "execution_count": 21,
   "metadata": {
    "collapsed": false
   },
   "outputs": [
    {
     "name": "stdout",
     "output_type": "stream",
     "text": [
      "Enter the telecom service provider you want to perform sentiment analysis on (username) : reliancejio\n"
     ]
    }
   ],
   "source": [
    "telecom = raw_input('Enter the telecom service provider you want to perform sentiment analysis on (username) : ')\n"
   ]
  },
  {
   "cell_type": "code",
   "execution_count": 22,
   "metadata": {
    "collapsed": true
   },
   "outputs": [],
   "source": [
    "def senti_tweets(telecom): #Function returns number of tweets for each sentiment\n",
    "    auth = tweepy.OAuthHandler(consumer_key, consumer_secret)#Authenticating user\n",
    "    auth.set_access_token(access_token, access_token_secret)#Getting access to twitter api\n",
    "    api = tweepy.API(auth)\n",
    "    public_tweets = api.search(str(telecom), count = 200)\n",
    "    pos = 0\n",
    "    neg = 0\n",
    "    neut = 0\n",
    "    for tweet in public_tweets:\n",
    "        sc = TextBlob(tweet.text)\n",
    "        if(sc.sentiment.polarity>0):\n",
    "            pos=pos+1\n",
    "        elif (sc.sentiment.polarity<0):\n",
    "            neg=neg+1\n",
    "        else:\n",
    "            neut=neut+1\n",
    "    return pos,neg,neut,len(public_tweets)\n",
    "l = senti_tweets(telecom)\n",
    "\n"
   ]
  },
  {
   "cell_type": "code",
   "execution_count": null,
   "metadata": {
    "collapsed": false
   },
   "outputs": [],
   "source": []
  },
  {
   "cell_type": "code",
   "execution_count": 23,
   "metadata": {
    "collapsed": false
   },
   "outputs": [
    {
     "data": {
      "text/plain": [
       "<matplotlib.text.Text at 0xa3a7b70>"
      ]
     },
     "execution_count": 23,
     "metadata": {},
     "output_type": "execute_result"
    }
   ],
   "source": [
    "x = ('Positive','Negative','Neutral')\n",
    "y_pos = np.arange(len(x))\n",
    "t = [(l[0]*100)/l[3],(l[1]*100)/l[3],(l[2]*100)/l[3]]\n",
    "plt.bar(y_pos, t, align='center', alpha=0.5,width=.2,color = 'green')\n",
    "plt.xticks(y_pos, x)\n",
    "plt.ylabel('Percentage of Tweets')\n",
    "plt.title('Sentiment Analysis on '+telecom)"
   ]
  },
  {
   "cell_type": "code",
   "execution_count": 24,
   "metadata": {
    "collapsed": true
   },
   "outputs": [],
   "source": [
    "plt.show()"
   ]
  },
  {
   "cell_type": "code",
   "execution_count": null,
   "metadata": {
    "collapsed": true
   },
   "outputs": [],
   "source": []
  }
 ],
 "metadata": {
  "kernelspec": {
   "display_name": "Python 2",
   "language": "python",
   "name": "python2"
  },
  "language_info": {
   "codemirror_mode": {
    "name": "ipython",
    "version": 2
   },
   "file_extension": ".py",
   "mimetype": "text/x-python",
   "name": "python",
   "nbconvert_exporter": "python",
   "pygments_lexer": "ipython2",
   "version": "2.7.11"
  }
 },
 "nbformat": 4,
 "nbformat_minor": 2
}
